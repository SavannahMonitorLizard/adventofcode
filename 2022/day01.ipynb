{
 "cells": [
  {
   "cell_type": "markdown",
   "metadata": {},
   "source": [
    "## Question 1:\n",
    "--- Day 1: Calorie Counting ---\n",
    "Santa's reindeer typically eat regular reindeer food, but they need a lot of magical energy to deliver presents on Christmas. For that, their favorite snack is a special type of star fruit that only grows deep in the jungle. The Elves have brought you on their annual expedition to the grove where the fruit grows.\n",
    "\n",
    "To supply enough magical energy, the expedition needs to retrieve a minimum of fifty stars by December 25th. Although the Elves assure you that the grove has plenty of fruit, you decide to grab any fruit you see along the way, just in case.\n",
    "\n",
    "Collect stars by solving puzzles. Two puzzles will be made available on each day in the Advent calendar; the second puzzle is unlocked when you complete the first. Each puzzle grants one star. Good luck!\n",
    "\n",
    "The jungle must be too overgrown and difficult to navigate in vehicles or access from the air; the Elves' expedition traditionally goes on foot. As your boats approach land, the Elves begin taking inventory of their supplies. One important consideration is food - in particular, the number of Calories each Elf is carrying (your puzzle input).\n",
    "\n",
    "The Elves take turns writing down the number of Calories contained by the various meals, snacks, rations, etc. that they've brought with them, one item per line. Each Elf separates their own inventory from the previous Elf's inventory (if any) by a blank line.\n",
    "\n",
    "For example, suppose the Elves finish writing their items' Calories and end up with the following list:\n",
    "\n",
    "1000\n",
    "2000\n",
    "3000\n",
    "\n",
    "4000\n",
    "\n",
    "5000\n",
    "6000\n",
    "\n",
    "7000\n",
    "8000\n",
    "9000\n",
    "\n",
    "10000\n",
    "This list represents the Calories of the food carried by five Elves:\n",
    "\n",
    "The first Elf is carrying food with 1000, 2000, and 3000 Calories, a total of 6000 Calories.\n",
    "The second Elf is carrying one food item with 4000 Calories.\n",
    "The third Elf is carrying food with 5000 and 6000 Calories, a total of 11000 Calories.\n",
    "The fourth Elf is carrying food with 7000, 8000, and 9000 Calories, a total of 24000 Calories.\n",
    "The fifth Elf is carrying one food item with 10000 Calories.\n",
    "In case the Elves get hungry and need extra snacks, they need to know which Elf to ask: they'd like to know how many Calories are being carried by the Elf carrying the most Calories. In the example above, this is 24000 (carried by the fourth Elf).\n",
    "\n",
    "### Find the Elf carrying the most Calories. How many total Calories is that Elf carrying?\n",
    "\n",
    "## Question 2:\n",
    "By the time you calculate the answer to the Elves' question, they've already realized that the Elf carrying the most Calories of food might eventually run out of snacks.\n",
    "\n",
    "To avoid this unacceptable situation, the Elves would instead like to know the total Calories carried by the top three Elves carrying the most Calories. That way, even if one of those Elves runs out of snacks, they still have two backups.\n",
    "\n",
    "In the example above, the top three Elves are the fourth Elf (with 24000 Calories), then the third Elf (with 11000 Calories), then the fifth Elf (with 10000 Calories). The sum of the Calories carried by these three elves is 45000.\n",
    "\n",
    "### Find the top three Elves carrying the most Calories. How many Calories are those Elves carrying in total?"
   ]
  },
  {
   "cell_type": "code",
   "execution_count": 10,
   "metadata": {},
   "outputs": [
    {
     "name": "stdout",
     "output_type": "stream",
     "text": [
      "[47448, 45090, 59018, 49618, 63645, 42414, 46819, 17480, 58355, 47244, 44072, 35484, 57606, 16325, 49413, 46680, 46465, 48346, 54939, 40054, 47734, 32334, 42234, 63322, 50639, 59112, 45153, 46672, 61732, 50427, 43507, 51081, 46419, 43126, 29708, 40194, 32588, 57464, 47694, 11830, 1361, 55419, 55505, 10244, 44676, 44143, 41238, 44944, 42988, 49724, 63592, 45444, 45113, 63164, 57862, 48156, 42750, 19585, 59445, 56555, 46348, 46667, 53102, 27831, 45962, 38232, 51578, 54534, 34320, 51684, 42987, 58470, 26910, 51538, 53420, 38871, 40594, 51210, 51987, 37250, 58733, 32569, 41537, 46471, 39833, 38967, 63967, 49434, 23126, 38170, 47222, 58854, 61957, 51972, 42644, 41485, 47621, 47486, 49910, 51969, 36061, 50076, 41348, 53628, 56204, 28397, 41076, 40599, 52101, 16353, 53928, 52642, 10089, 41622, 50841, 54242, 31084, 30112, 67023, 37398, 59011, 61543, 55104, 56042, 31283, 34627, 52974, 33732, 64098, 15229, 44128, 38945, 52688, 42461, 6949, 60464, 48353, 59040, 49030, 53510, 8154, 52002, 43178, 41652, 52530, 54210, 39117, 42683, 53221, 39376, 49279, 54235, 57811, 43642, 54037, 43038, 51848, 34439, 61670, 45058, 41346, 46090, 49037, 59689, 29721, 59721, 53988, 52536, 56529, 43812, 34171, 47482, 49739, 63509, 45265, 35351, 48214, 50901, 15043, 33709, 59960, 53112, 33417, 1550, 53518, 46695, 59793, 47801, 27845, 53569, 52343, 34363, 22735, 40285, 53941, 40347, 48315, 40014, 45919, 49825, 52839, 59521, 46674, 40993, 55198, 45187, 56701, 15940, 60705, 50101, 52626, 1108, 53126, 30080, 55903, 58514, 40254, 43059, 42255, 48471, 18097, 43461, 49954, 43989, 68923, 57143, 51478, 37025, 54403, 53930, 51268, 47869, 46129, 38164, 55194, 55182, 52728, 7054, 38802, 57158, 19992, 45939, 59906, 40448, 14089, 56027, 43503, 57472, 57478, 59462, 54455, 49972, 45092, 48140, 47939, 57975, 51287]\n",
      "68923\n",
      "200044\n"
     ]
    }
   ],
   "source": [
    "inputs = open('inputs\\\\day01.txt', 'r').read().split(\"\\n\\n\")\n",
    "\n",
    "sums = [sum(int(j) for j in i.split(\"\\n\")) for i in inputs]\n",
    "\n",
    "print(max(sums))\n",
    "print(sum(sorted(sums)[-3:]))"
   ]
  }
 ],
 "metadata": {
  "kernelspec": {
   "display_name": "Python 3.10.2 64-bit",
   "language": "python",
   "name": "python3"
  },
  "language_info": {
   "codemirror_mode": {
    "name": "ipython",
    "version": 3
   },
   "file_extension": ".py",
   "mimetype": "text/x-python",
   "name": "python",
   "nbconvert_exporter": "python",
   "pygments_lexer": "ipython3",
   "version": "3.10.2"
  },
  "orig_nbformat": 4,
  "vscode": {
   "interpreter": {
    "hash": "fc1c16f227afd54009a1a9c07ed6baedd970033adb9b890bbfc7ebc8d384cda3"
   }
  }
 },
 "nbformat": 4,
 "nbformat_minor": 2
}
