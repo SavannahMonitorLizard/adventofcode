{
 "cells": [
  {
   "cell_type": "markdown",
   "metadata": {},
   "source": [
    "## Question 1\n",
    "--- Day 3: Rucksack Reorganization ---\n",
    "One Elf has the important job of loading all of the rucksacks with supplies for the jungle journey. Unfortunately, that Elf didn't quite follow the packing instructions, and so a few items now need to be rearranged.\n",
    "\n",
    "Each rucksack has two large compartments. All items of a given type are meant to go into exactly one of the two compartments. The Elf that did the packing failed to follow this rule for exactly one item type per rucksack.\n",
    "\n",
    "The Elves have made a list of all of the items currently in each rucksack (your puzzle input), but they need your help finding the errors. Every item type is identified by a single lowercase or uppercase letter (that is, a and A refer to different types of items).\n",
    "\n",
    "The list of items for each rucksack is given as characters all on a single line. A given rucksack always has the same number of items in each of its two compartments, so the first half of the characters represent items in the first compartment, while the second half of the characters represent items in the second compartment.\n",
    "\n",
    "For example, suppose you have the following list of contents from six rucksacks:\n",
    "\n",
    "vJrwpWtwJgWrhcsFMMfFFhFp\n",
    "jqHRNqRjqzjGDLGLrsFMfFZSrLrFZsSL\n",
    "PmmdzqPrVvPwwTWBwg\n",
    "wMqvLMZHhHMvwLHjbvcjnnSBnvTQFn\n",
    "ttgJtRGJQctTZtZT\n",
    "CrZsJsPPZsGzwwsLwLmpwMDw\n",
    "The first rucksack contains the items vJrwpWtwJgWrhcsFMMfFFhFp, which means its first compartment contains the items vJrwpWtwJgWr, while the second compartment contains the items hcsFMMfFFhFp. The only item type that appears in both compartments is lowercase p.\n",
    "The second rucksack's compartments contain jqHRNqRjqzjGDLGL and rsFMfFZSrLrFZsSL. The only item type that appears in both compartments is uppercase L.\n",
    "The third rucksack's compartments contain PmmdzqPrV and vPwwTWBwg; the only common item type is uppercase P.\n",
    "The fourth rucksack's compartments only share item type v.\n",
    "The fifth rucksack's compartments only share item type t.\n",
    "The sixth rucksack's compartments only share item type s.\n",
    "To help prioritize item rearrangement, every item type can be converted to a priority:\n",
    "\n",
    "Lowercase item types a through z have priorities 1 through 26.\n",
    "Uppercase item types A through Z have priorities 27 through 52.\n",
    "In the above example, the priority of the item type that appears in both compartments of each rucksack is 16 (p), 38 (L), 42 (P), 22 (v), 20 (t), and 19 (s); the sum of these is 157.\n",
    "\n",
    "Find the item type that appears in both compartments of each rucksack. What is the sum of the priorities of those item types?"
   ]
  },
  {
   "cell_type": "code",
   "execution_count": 28,
   "metadata": {},
   "outputs": [
    {
     "name": "stdout",
     "output_type": "stream",
     "text": [
      "['G', 'w', 't', 'h', 'z', 'Z', 'v', 'j', 'D', 'Q', 'N', 'z', 'c', 'R', 'g', 'q', 'J', 't', 'd', 'm', 'Q', 'p', 't', 'T', 'S', 'h', 'N', 'w', 'c', 'M', 'H', 'Q', 'W', 'v', 'n', 'q', 'f', 'w', 'v', 'Z', 'B', 'l', 'M', 'm', 'W', 'J', 'j', 'f', 'h', 'W', 'g', 'L', 'b', 'F', 'H', 'Z', 'V', 'g', 'r', 'v', 'z', 'F', 'h', 'B', 'l', 'W', 'W', 'w', 'F', 'B', 'J', 'r', 'W', 'P', 'l', 'J', 'Z', 'b', 'Z', 'F', 'S', 'W', 'j', 'T', 'v', 'g', 'q', 'D', 'S', 'Q', 'G', 'S', 'N', 'z', 'J', 'B', 'z', 'n', 'f', 'B', 'V', 'c', 'T', 'R', 'B', 'Z', 'L', 'v', 'T', 'B', 'L', 'c', 'r', 'q', 'p', 'f', 't', 'C', 'M', 'c', 'T', 'M', 'm', 'C', 'W', 'c', 'V', 'h', 'r', 'B', 'R', 'n', 't', 'D', 'M', 's', 'l', 'N', 'F', 'q', 'G', 'z', 'B', 'Z', 'R', 'n', 'P', 'v', 'L', 'q', 'g', 'P', 'z', 'c', 'r', 'T', 'L', 'c', 'G', 'N', 'L', 'H', 's', 'H', 'C', 'Q', 'l', 'g', 'l', 'q', 'v', 'H', 'R', 'Q', 'L', 'Z', 'z', 'h', 'P', 'V', 'S', 'd', 'V', 'r', 'P', 'd', 'p', 'F', 'J', 'D', 'F', 'p', 'D', 'V', 'N', 'F', 'Q', 'm', 'd', 'D', 'S', 'C', 'n', 'F', 'r', 'h', 'b', 'S', 'g', 'M', 'j', 'm', 't', 'h', 'M', 'R', 'C', 'q', 'H', 'D', 'n', 'Z', 'g', 'p', 't', 't', 'f', 'v', 'D', 'W', 'p', 'b', 'B', 'W', 'r', 'H', 's', 'M', 'd', 'g', 'j', 'W', 'v', 'n', 'R', 'h', 'h', 'm', 'W', 'p', 's', 'D', 'h', 'd', 'D', 'M', 'P', 'b', 'T', 'V', 'p', 'l', 'q', 'B', 'T', 's', 'R', 'H', 'V', 'j', 'j', 'T', 'B', 'H', 'n', 'B', 't', 'f', 'T', 'D', 'f', 'd', 'h', 'N', 's', 'W', 'M', 'D', 'C', 'T', 'W', 'R', 't', 'W', 'G', 'f', 'h', 'T', 'R', 'c']\n",
      "8139\n"
     ]
    }
   ],
   "source": [
    "inputs = open('inputs\\\\day03.txt', 'r').read().split(\"\\n\")\n",
    "\n",
    "chars = []\n",
    "tot = 0\n",
    "for i in inputs:\n",
    "    f, s = i[:len(i)//2], i[len(i)//2:]\n",
    "    s1_chars = set(f)\n",
    "    s2_chars = set(s)\n",
    "    chars.append(list(sorted(s1_chars.intersection(s2_chars)))[0])\n",
    "print(chars)\n",
    "for c in chars:\n",
    "    if c.isupper():\n",
    "        tot += int(ord(c) - 38)\n",
    "    else:\n",
    "        tot += int(ord(c) - 96)\n",
    "\n",
    "print(tot)"
   ]
  },
  {
   "cell_type": "markdown",
   "metadata": {},
   "source": [
    "## Question 2\n",
    "--- Part Two ---\n",
    "As you finish identifying the misplaced items, the Elves come to you with another issue.\n",
    "\n",
    "For safety, the Elves are divided into groups of three. Every Elf carries a badge that identifies their group. For efficiency, within each group of three Elves, the badge is the only item type carried by all three Elves. That is, if a group's badge is item type B, then all three Elves will have item type B somewhere in their rucksack, and at most two of the Elves will be carrying any other item type.\n",
    "\n",
    "The problem is that someone forgot to put this year's updated authenticity sticker on the badges. All of the badges need to be pulled out of the rucksacks so the new authenticity stickers can be attached.\n",
    "\n",
    "Additionally, nobody wrote down which item type corresponds to each group's badges. The only way to tell which item type is the right one is by finding the one item type that is common between all three Elves in each group.\n",
    "\n",
    "Every set of three lines in your list corresponds to a single group, but each group can have a different badge item type. So, in the above example, the first group's rucksacks are the first three lines:\n",
    "\n",
    "vJrwpWtwJgWrhcsFMMfFFhFp\n",
    "jqHRNqRjqzjGDLGLrsFMfFZSrLrFZsSL\n",
    "PmmdzqPrVvPwwTWBwg\n",
    "And the second group's rucksacks are the next three lines:\n",
    "\n",
    "wMqvLMZHhHMvwLHjbvcjnnSBnvTQFn\n",
    "ttgJtRGJQctTZtZT\n",
    "CrZsJsPPZsGzwwsLwLmpwMDw\n",
    "In the first group, the only item type that appears in all three rucksacks is lowercase r; this must be their badges. In the second group, their badge item type must be Z.\n",
    "\n",
    "Priorities for these items must still be found to organize the sticker attachment efforts: here, they are 18 (r) for the first group and 52 (Z) for the second group. The sum of these is 70.\n",
    "\n",
    "Find the item type that corresponds to the badges of each three-Elf group. What is the sum of the priorities of those item types?"
   ]
  },
  {
   "cell_type": "code",
   "execution_count": 29,
   "metadata": {},
   "outputs": [
    {
     "name": "stdout",
     "output_type": "stream",
     "text": [
      "2668\n"
     ]
    }
   ],
   "source": [
    "inputs = open('inputs\\\\day03.txt', 'r').read().split(\"\\n\")\n",
    "\n",
    "chars = []\n",
    "tot = 0\n",
    "i = 0\n",
    "while i < len(inputs) - 2:\n",
    "    f, s, c = inputs[i], inputs[i+1], inputs[i+2]\n",
    "    s1_chars = set(f)\n",
    "    s2_chars = set(s)\n",
    "    s3_chars = set(c)\n",
    "    chars.append(list(sorted(s1_chars.intersection(s2_chars).intersection(s3_chars)))[0])\n",
    "    i += 3\n",
    "\n",
    "for c in chars:\n",
    "    if c.isupper():\n",
    "        tot += int(ord(c) - 38)\n",
    "    else:\n",
    "        tot += int(ord(c) - 96)\n",
    "\n",
    "print(tot)"
   ]
  }
 ],
 "metadata": {
  "kernelspec": {
   "display_name": "Python 3.10.2 64-bit",
   "language": "python",
   "name": "python3"
  },
  "language_info": {
   "codemirror_mode": {
    "name": "ipython",
    "version": 3
   },
   "file_extension": ".py",
   "mimetype": "text/x-python",
   "name": "python",
   "nbconvert_exporter": "python",
   "pygments_lexer": "ipython3",
   "version": "3.10.2"
  },
  "orig_nbformat": 4,
  "vscode": {
   "interpreter": {
    "hash": "fc1c16f227afd54009a1a9c07ed6baedd970033adb9b890bbfc7ebc8d384cda3"
   }
  }
 },
 "nbformat": 4,
 "nbformat_minor": 2
}
